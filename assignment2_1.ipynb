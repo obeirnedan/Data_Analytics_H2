{
 "nbformat": 4,
 "nbformat_minor": 2,
 "metadata": {
  "language_info": {
   "name": "python",
   "codemirror_mode": {
    "name": "ipython",
    "version": 3
   },
   "version": "3.7.4-final"
  },
  "orig_nbformat": 2,
  "file_extension": ".py",
  "mimetype": "text/x-python",
  "name": "python",
  "npconvert_exporter": "python",
  "pygments_lexer": "ipython3",
  "version": 3,
  "kernelspec": {
   "name": "python37464bitbasecondaac4315a27b0547feb99a5474e3d632d5",
   "display_name": "Python 3.7.4 64-bit ('base': conda)"
  }
 },
 "cells": [
  {
   "cell_type": "markdown",
   "metadata": {},
   "source": [
    "# Part I:\n",
    "## 1)\n",
    "### Linked List implementation"
   ]
  },
  {
   "cell_type": "code",
   "execution_count": 28,
   "metadata": {},
   "outputs": [
    {
     "output_type": "stream",
     "name": "stdout",
     "text": "First\nA\nB\nLast\nFinished! Length of list:  4\nA\nB\nLast\nFinished! Length of list:  3\n"
    }
   ],
   "source": [
    "#impliement node class which has instance variables of its value and a pointer to the next element in the list - initially set to null or none - users won't interact with this it will be used by the myLinkedList class. Note the code below is taken in part from the pseudo code provided in lectures\n",
    "class Node():\n",
    "    def __init__(self, data):\n",
    "        self.data = data\n",
    "        self.next = None\n",
    "\n",
    "#myLinkedList is a 1ist with a head pointer initially set to none\n",
    "class myLinkedList():\n",
    "    def __init__(self):\n",
    "        self.head = None\n",
    "        self.node_count = 0                         #initialise the node count to zero\n",
    "\n",
    "    def add_last(self, data):                       #create an add_last method that takes in data of new node\n",
    "        n_node = Node(data)                         #call node function to create node out of data passed to the method\n",
    "        if self.head is None:                       #check if the list to which node is being added has any nodes already \n",
    "            self.head = n_node                      #if so just set add the new node to list at the head\n",
    "        else:           \n",
    "            current = self.head                     #run through list to find last node\n",
    "            while current.next:                     #while pointer of current node is not null:\n",
    "                current = current.next              #set current ot next node \n",
    "            current.next = n_node                   #set pointer of previous 'last node' to point to the new last node\n",
    "        self.node_count += 1        \n",
    "\n",
    "    def add_first(self, data):                      #create an add_last method\n",
    "        n_node = Node(data)                         #create a node instance out of the data supplied\n",
    "        n_node.next = self.head                     #set the .next pointer of the node to at point at the previous head node\n",
    "        self.head = n_node                          #set the head of of the list to the new node\n",
    "        self.node_count += 1        \n",
    "\n",
    "    def remove_first(self):                         #create a remove_first method\n",
    "        if self.head is None:                       #check to make sure list is not empty, if it is print msg\n",
    "            return (\"Error, list is empty\")         \n",
    "        else:       \n",
    "            cur = self.head                         #set current node variable to current head\n",
    "            self.head = cur.next                    #set head of list to node pointed to by current head\n",
    "            self.node_count -= 1                    #reduce the node counter by 1\n",
    "\n",
    "    def list_traversal(self):                       #create a list traversal function\n",
    "        cur = self.head                             #initialse current variable to head \n",
    "        while cur:                                  #while current node is not null print out data and move pointer \n",
    "            print(cur.data)     \n",
    "            cur = cur.next\n",
    "        print(\"Finished! Length of list: \", self.node_count )\n",
    "\n",
    "\n",
    "#instantiating a linked list object\n",
    "list_1 = myLinkedList()\n",
    "\n",
    "list_1.add_first(\"A\")\n",
    "list_1.add_last(\"B\")\n",
    "list_1.add_first(\"First\")\n",
    "list_1.add_last(\"Last\")\n",
    "list_1.list_traversal()\n",
    "list_1.remove_first()\n",
    "list_1.list_traversal()"
   ]
  },
  {
   "cell_type": "markdown",
   "metadata": {},
   "source": [
    "## 2)\n",
    "### A Stack Abstratct Data Type \n",
    "is where elements are 'stacked' on top of each other one after the other. A key feature of this is that only the most recent addition to the stack (the element at the top of the stack) can be removed or accessed(popped), similarly a new element can only be inserted to the top of the stack (pushed). This can be implemented using a linked list similar to the one in part 1 but with slightly different funcionality or using an array. The Stack ADT operates a last in first out system for adding / removing elements.\n",
    "\n",
    "It has two primary operations that is pop(), to remove an element from the top of  the stack and return it, and push()add an element to the top of the stack. Other support operations include; top() which shows the top element in the stack without removing it, size() which returns the number of elements in the stack, and is_empty() which returns a boolean indicating if the stack is empty or not.\n",
    "\n",
    "Two life examples of a stack would be a pile of plates and a deck of cards, you can place the top plate ot card down or remove it, but you cannot remove the plates / cards below the top card.\n",
    "\n",
    "### A Queue Abstract Data Type\n",
    "is different from a Stack in that it operates a first in first out system, that is the element that has been in the queue the longest must be removed first. Elements are added to the rear or 'back' of the queue (enqueued) and removed from the front of the queue (dequeued). An item that has been added will have to wait for all other items added before it to be dequeued before it can be dequeued.\n",
    "\n",
    "It has similar operations to the Stack but slightly different. Enqueue() adds and element to the back of the queue, and dequeue() removes an element from the front of the queue and returns it. It has support operations size() which returns the nummber of elements in the queue, is_empty() which returns a boolean indicating if the queue is empty or not, and show_front() which returns but does not remove the element in the queue which is at the front.\n",
    "\n",
    "Two real life examples of a queue would be queues of people at the supermarket, the person at the front of the queue is the person who got there first, and anyone joining the queue will enter at the rear and wait for all people already in the queue to leave. Another example of a queue could be a FIFO pipe in bash programming, the first variables sent through the pipe is the first variable out of the pipe at the other end.\n",
    "\n"
   ]
  },
  {
   "cell_type": "markdown",
   "metadata": {},
   "source": [
    "# Part II\n",
    "## 1)\n",
    "### Stack ADT Implementation"
   ]
  },
  {
   "cell_type": "code",
   "execution_count": 63,
   "metadata": {},
   "outputs": [],
   "source": [
    "#implementation of a stack ADT in python using linked list\n",
    "#note that print statements are used here to answer later questions, they should be return statements\n",
    "class Node():\n",
    "    def __init__(self, data):\n",
    "        self.data = data\n",
    "        self.next = None\n",
    "\n",
    "#myLinkedList is a 1ist with a head pointer initially set to none\n",
    "class myStack():\n",
    "    def __init__(self):\n",
    "        self.head = None\n",
    "        self.node_count = 0                         #initialise the node count to zero\n",
    "\n",
    "    def push(self, data):                           #create an push() method\n",
    "        n_node = Node(data)                         #create a node instance out of the data supplied\n",
    "        n_node.next = self.head                     #set the .next pointer of the node to at point at the previous head node\n",
    "        self.head = n_node                          #set the head of of the list to the new node\n",
    "        self.node_count += 1        \n",
    "\n",
    "    def pop(self):                                  #create a pop() method\n",
    "        if self.head is None:                       #check to make sure list is not empty, if it is print msg\n",
    "            print(\"Error, list is empty\")         \n",
    "        else:       \n",
    "            cur = self.head                         #set current node variable to current head\n",
    "            self.head = cur.next                    #set head of list to node pointed to by current head\n",
    "            self.node_count -= 1                    #reduce the node counter by 1\n",
    "            print(cur.data)\n",
    "\n",
    "    def size(self):                                 #size method simply returns number of nodes in stack\n",
    "        print(self.node_count)\n",
    "\n",
    "    def is_empty(self):                             #is_empty returns True if the top element is none, false otherwise\n",
    "        if self.head is None:\n",
    "            print(True)\n",
    "        else:\n",
    "            print(False)\n",
    "\n",
    "    def top(self):                                  #top() checks to ensure that the stack is not empty and then returns the head\n",
    "        if self.head is not None:\n",
    "            cur = self.head\n",
    "            print(cur.data)\n",
    "        else:\n",
    "            (\"This is an empty stack\")       #if it is empty it reutns an error message"
   ]
  },
  {
   "cell_type": "code",
   "execution_count": 55,
   "metadata": {},
   "outputs": [],
   "source": []
  },
  {
   "cell_type": "markdown",
   "metadata": {},
   "source": [
    "## 2)\n",
    "### Instantiate a stack print the returned values\n",
    "Print statements have been added to the myStack class above to show the value that are returned"
   ]
  },
  {
   "cell_type": "code",
   "execution_count": 66,
   "metadata": {},
   "outputs": [
    {
     "output_type": "stream",
     "name": "stdout",
     "text": "3\n8\n2\n1\n6\n7\n4\n9\n"
    }
   ],
   "source": [
    "S = myStack()\n",
    "S.push(5)\n",
    "S.push(3)\n",
    "S.pop()\n",
    "S.push(2)\n",
    "S.push(8)\n",
    "S.pop()\n",
    "S.pop()\n",
    "S.push(9)\n",
    "S.push(1)\n",
    "S.pop()\n",
    "S.push(7)\n",
    "S.push(6)\n",
    "S.pop()\n",
    "S.pop(),\n",
    "S.push(4)\n",
    "S.pop()\n",
    "S.pop()"
   ]
  },
  {
   "cell_type": "markdown",
   "metadata": {},
   "source": [
    "As can be seen above the pop() operations return the most recent number that was pushed to the stack. The push operations do not return anything. The values are returned on a first in last out basis."
   ]
  },
  {
   "cell_type": "markdown",
   "metadata": {},
   "source": [
    "## 3)\n",
    "There would be a size of 28 in that stack as 3 out of the 10 pop() operations did not actually remove anything and top() operations do not remove anything. So 35 - 7 = 28"
   ]
  },
  {
   "cell_type": "markdown",
   "metadata": {},
   "source": [
    "## Part III\n",
    "### 1) Creating a myQueue Class"
   ]
  },
  {
   "cell_type": "code",
   "execution_count": 73,
   "metadata": {},
   "outputs": [],
   "source": [
    "#Implementation of an array based queue - print statements instead of return statements are used instead of the usual return statements\n",
    "class myQueue():\n",
    "    def __init__(self):\n",
    "        self.arr = []                           #init method initialises an empty array \n",
    "\n",
    "def enqueue(self, data):                        #enqueue adds the data to index 0 of the array\n",
    "        self.arr.insert(0, data)\n",
    "\n",
    "    def dequeue(self):                          #dequeue pops the last item off the array\n",
    "        print(self.arr.pop())\n",
    "\n",
    "    def show_front(self):                       #show front shows the front item in the array without popping it (ie the last element in the array)\n",
    "        print(self.arr[-1:])\n",
    "\n",
    "    def is_empty(self):                         #returns a boolean checking if the array is empty\n",
    "        print(self.arr == []) \n",
    "    \n",
    "def size(self):                                 #returns the length of the array\n",
    "        print(len(self.arr))"
   ]
  },
  {
   "cell_type": "markdown",
   "metadata": {},
   "source": [
    "### 2) Showing what is returned by queue operations "
   ]
  },
  {
   "cell_type": "code",
   "execution_count": 74,
   "metadata": {},
   "outputs": [
    {
     "output_type": "stream",
     "name": "stdout",
     "text": "5\n3\n2\n8\n9\n1\n7\n6\n"
    }
   ],
   "source": [
    "Q = myQueue()\n",
    "Q.enqueue(5)\n",
    "Q.enqueue(3)\n",
    "Q.dequeue()\n",
    "Q.enqueue(2)\n",
    "Q.enqueue(8)\n",
    "Q.dequeue()\n",
    "Q.dequeue()\n",
    "Q.enqueue(9)\n",
    "Q.enqueue(1)\n",
    "Q.dequeue()\n",
    "Q.enqueue(7)\n",
    "Q.enqueue(6)\n",
    "Q.dequeue()\n",
    "Q.dequeue()\n",
    "Q.enqueue(4)\n",
    "Q.dequeue()\n",
    "Q.dequeue()"
   ]
  },
  {
   "cell_type": "markdown",
   "metadata": {},
   "source": [
    "As can be seen above only the dequeue operations return a value. These values are returned on a first in first out basis."
   ]
  },
  {
   "cell_type": "markdown",
   "metadata": {},
   "source": [
    "## 3)\n",
    "The size of the queue would be 40. Top operations do not remove any elemetns and dequeueued operations do not do anything if the queue is empty, so there are 10 successful dequeueings. 50 - 10 = 40."
   ]
  },
  {
   "cell_type": "code",
   "execution_count": null,
   "metadata": {},
   "outputs": [],
   "source": []
  }
 ]
}